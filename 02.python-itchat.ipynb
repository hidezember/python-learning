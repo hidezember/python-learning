{
 "cells": [
  {
   "cell_type": "code",
   "execution_count": 2,
   "metadata": {},
   "outputs": [
    {
     "name": "stdout",
     "output_type": "stream",
     "text": [
      "█\r"
     ]
    },
    {
     "name": "stderr",
     "output_type": "stream",
     "text": [
      "Getting uuid of QR code.\n",
      "Downloading QR code.\n",
      "Please scan the QR code to log in.\n",
      "Please press confirm on your phone.\n",
      "Loading the contact, this may take a little while.\n",
      "Login successfully as 🍋盛娇娇\n"
     ]
    }
   ],
   "source": [
    "#导入itchat库\n",
    "import itchat\n",
    "#登陆微信，会弹出二维码扫描\n",
    "itchat.login()\n",
    "#爬取好友相关信息，返回一个json\n",
    "friends = itchat.get_friends(update=True)[0:]"
   ]
  },
  {
   "cell_type": "code",
   "execution_count": 3,
   "metadata": {},
   "outputs": [
    {
     "name": "stdout",
     "output_type": "stream",
     "text": [
      "男性好友： 43.81%\n",
      "女性好友： 50.21%\n",
      "不明性别好友： 5.98%\n"
     ]
    }
   ],
   "source": [
    "#初始化计算器\n",
    "male = female = other = 0\n",
    "#friends[0]是自己的信息，所以要从[1]开始\n",
    "for i in friends[1:]:\n",
    "    sex = i[\"Sex\"]\n",
    "    if sex == 1:\n",
    "        male +=1\n",
    "    elif sex == 2:\n",
    "        female +=1\n",
    "    else:\n",
    "        other +=1\n",
    "#计算朋友总和        \n",
    "total = len(friends[1:])\n",
    "#打印出性别比例\n",
    "print(\"男性好友： %.2f%%\" % (float(male)/total*100) + \"\\n\" +\n",
    "      \"女性好友： %.2f%%\" % (float(female)/total*100) + \"\\n\" +\n",
    "      \"不明性别好友： %.2f%%\" % (float(other)/total*100) )\n",
    "    "
   ]
  },
  {
   "cell_type": "code",
   "execution_count": null,
   "metadata": {
    "collapsed": true
   },
   "outputs": [],
   "source": [
    "#定义一个函数，用来爬去各个变量\n",
    "def get_var(var):\n",
    "    variable = []\n",
    "    for i in friends:\n",
    "        value = i[var]\n",
    "        variable.append(value)\n",
    "    return variable\n",
    "#调用各个变量，并把数据存到csv文件\n",
    "NickName = get_var(\"NickName\")\n",
    "Sex = get_var('Sex')\n",
    "Province = get_var('Province') \n",
    "City = get_var('City')\n",
    "Signature = get_var('Signature')\n",
    "from pandas import DataFrame\n",
    "data = {'NickName': NickName,'Sex':Sex,'Province':Province,'City':City,'Signature':Signature}\n",
    "frame = DataFrame(data)\n",
    "frame.to_csv('data.csv',index=True)"
   ]
  },
  {
   "cell_type": "code",
   "execution_count": null,
   "metadata": {},
   "outputs": [
    {
     "name": "stderr",
     "output_type": "stream",
     "text": [
      "Building prefix dict from the default dictionary ...\n",
      "Loading model from cache /var/folders/36/82mxc7_d48x3hf___5qvfhkm0000gn/T/jieba.cache\n",
      "Loading model cost 1.466 seconds.\n",
      "Prefix dict has been built succesfully.\n",
      "LOG OUT!\n"
     ]
    }
   ],
   "source": [
    "import re\n",
    "siglist = []\n",
    "#替换掉emoji等无关字符\n",
    "for i in friends:\n",
    "    signature = i[\"Signature\"].strip().replace(\"span\",\"\").replace(\"class\",\"\").replace(\"emoji\",\"\")\n",
    "    rep = re.compile(\"1f\\d+\\w*|[<>/=]\")\n",
    "    signature = rep.sub(\"\", signature)\n",
    "    siglist.append(signature)\n",
    "text = \"\".join(siglist)\n",
    "#用结巴分词包进行分词\n",
    "import jieba\n",
    "wordlist = jieba.cut(text, cut_all=True)\n",
    "word_space_split = \" \".join(wordlist)\n",
    "#进行关键词画像\n",
    "import matplotlib.pyplot as plt\n",
    "from wordcloud import WordCloud, ImageColorGenerator\n",
    "import numpy as np\n",
    "import PIL.Image as Image\n",
    "coloring = np.array(Image.open(\"/Users/Lea/Downloads/wechat.JPG\"))\n",
    "my_wordcloud = WordCloud(background_color=\"white\", max_words=2000,\n",
    "                         mask=coloring, max_font_size=60, random_state=42, scale=2,\n",
    "                         font_path=\"/Library/Fonts/Microsoft/SimHei.ttf\").generate(word_space_split)\n",
    "\n",
    "image_colors = ImageColorGenerator(coloring)\n",
    "plt.imshow(my_wordcloud.recolor(color_func=image_colors))\n",
    "plt.imshow(my_wordcloud)\n",
    "plt.axis(\"off\")\n",
    "plt.show()"
   ]
  }
 ],
 "metadata": {
  "anaconda-cloud": {},
  "kernelspec": {
   "display_name": "Python [Root]",
   "language": "python",
   "name": "Python [Root]"
  },
  "language_info": {
   "codemirror_mode": {
    "name": "ipython",
    "version": 3
   },
   "file_extension": ".py",
   "mimetype": "text/x-python",
   "name": "python",
   "nbconvert_exporter": "python",
   "pygments_lexer": "ipython3",
   "version": "3.5.2"
  }
 },
 "nbformat": 4,
 "nbformat_minor": 1
}
