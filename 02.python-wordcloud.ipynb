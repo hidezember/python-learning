{
 "cells": [
  {
   "cell_type": "code",
   "execution_count": 1,
   "metadata": {},
   "outputs": [
    {
     "data": {
      "text/plain": [
       "<wordcloud.wordcloud.WordCloud at 0x113d9b198>"
      ]
     },
     "execution_count": 1,
     "metadata": {},
     "output_type": "execute_result"
    }
   ],
   "source": [
    "# -*- coding: utf-8 -*-\n",
    "\n",
    "from wordcloud import WordCloud\n",
    " \n",
    "f = open('wordcloud.txt') \n",
    "my_data = f.read() \n",
    "\n",
    "text = my_data\n",
    "\n",
    "\n",
    "# the font from github: https://github.com/adobe-fonts\n",
    "# font = r'SimHei.ttf'\n",
    "wc = WordCloud(background_color=\"white\",collocations=False, width=2000, height=1400, margin=2,font_path=\"/Library/Fonts/Microsoft/SimHei.ttf\",).generate(text)\n",
    "\n",
    "#image_colors = ImageColorGenerator(np.array(Image.open(\"screenshot.png\")))\n",
    "#plt.imshow(wc.recolor(color_func=image_colors))\n",
    "\n",
    "plt.imshow(wc)\n",
    "plt.axis(\"off\")\n",
    "plt.show()\n",
    "\n",
    "wc.to_file('show_Chinese.png')  # 把词云保存下来"
   ]
  }
 ],
 "metadata": {
  "kernelspec": {
   "display_name": "Python [Root]",
   "language": "python",
   "name": "Python [Root]"
  },
  "language_info": {
   "codemirror_mode": {
    "name": "ipython",
    "version": 3.0
   },
   "file_extension": ".py",
   "mimetype": "text/x-python",
   "name": "python",
   "nbconvert_exporter": "python",
   "pygments_lexer": "ipython3",
   "version": "3.5.2"
  }
 },
 "nbformat": 4,
 "nbformat_minor": 0
}